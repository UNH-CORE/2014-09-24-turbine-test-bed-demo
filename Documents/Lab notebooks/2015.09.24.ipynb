{
 "metadata": {
  "name": "",
  "signature": "sha256:c6376fba5f9a39f51f02595cb1046c9a75497ed6a597e2ffbd4b9fc69b5a136f"
 },
 "nbformat": 3,
 "nbformat_minor": 0,
 "worksheets": [
  {
   "cells": [
    {
     "cell_type": "heading",
     "level": 1,
     "metadata": {},
     "source": [
      "2015.09.24"
     ]
    },
    {
     "cell_type": "code",
     "collapsed": false,
     "input": [
      "from __future__ import division, print_function\n",
      "import os\n",
      "if os.path.split(os.getcwd())[-1] == \"Lab notebooks\":\n",
      "    os.chdir(\"../../\")\n",
      "import numpy as np\n",
      "import matplotlib.pyplot as plt\n",
      "import seaborn as sns\n",
      "import Modules.processing as pr\n",
      "import Modules.plotting as pl\n",
      "%load_ext autoreload\n",
      "%autoreload 2\n",
      "%matplotlib inline"
     ],
     "language": "python",
     "metadata": {},
     "outputs": [],
     "prompt_number": 6
    },
    {
     "cell_type": "markdown",
     "metadata": {},
     "source": [
      "Got in at about 10 AM. Didn't turn off DAQ last night so that appears to be working fine. Test processed a run from last night and results look just like what we expect.\n",
      "\n",
      "Homed tow and turbine axes. "
     ]
    },
    {
     "cell_type": "code",
     "collapsed": false,
     "input": [
      "r = pr.Run(\"Perf\", 2)\n",
      "print(r.mean_tsr)\n",
      "print(r.mean_cp)\n",
      "print(r.mean_cd)\n",
      "s = 5\n",
      "plt.plot(r.angle[:s*2000], r.cp[:s*2000])\n",
      "plt.show()"
     ],
     "language": "python",
     "metadata": {},
     "outputs": [
      {
       "output_type": "stream",
       "stream": "stdout",
       "text": [
        "2.00109375829\n",
        "0.256487206631\n",
        "0.967965271976\n"
       ]
      },
      {
       "metadata": {},
       "output_type": "display_data",
       "png": "[encoded data removed]",
       "text": [
        "<matplotlib.figure.Figure at 0x15523c90>"
       ]
      }
     ],
     "prompt_number": 26
    },
    {
     "cell_type": "code",
     "collapsed": false,
     "input": [
      "pr.process_latest_run(\"Perf\")"
     ],
     "language": "python",
     "metadata": {},
     "outputs": [
      {
       "output_type": "stream",
       "stream": "stdout",
       "text": [
        "Processing latest run in Perf\n",
        "\n",
        "Summary for Perf run 4:\n",
        "run                 4.000000\n",
        "tow_speed_nom       1.000000\n",
        "tsr_nom             2.800000\n",
        "mean_tow_speed      0.999769\n",
        "std_tow_speed       0.010182\n",
        "t1                 15.000000\n",
        "t2                 30.700000\n",
        "n_blade_pass       42.000000\n",
        "n_revs             14.000000\n",
        "mean_tsr            2.800778\n",
        "mean_cp             0.100351\n",
        "mean_cd             1.062450\n",
        "std_tsr             0.044355\n",
        "std_cp              0.066167\n",
        "std_cd              0.436838\n",
        "std_tsr_per_rev     0.004151\n",
        "std_cp_per_rev      0.014371\n",
        "std_cd_per_rev      0.019537\n",
        "exp_unc_tsr         0.009306\n",
        "exp_unc_cp          0.032552\n",
        "exp_unc_cd          0.043806\n",
        "dof_tsr            13.000167\n",
        "dof_cp             13.974549\n",
        "dof_cd             13.010691\n",
        "dtype: float64"
       ]
      },
      {
       "output_type": "stream",
       "stream": "stdout",
       "text": [
        "\n"
       ]
      }
     ],
     "prompt_number": 27
    },
    {
     "cell_type": "code",
     "collapsed": false,
     "input": [
      "s = pr.Section(\"Perf\")\n",
      "s.process()"
     ],
     "language": "python",
     "metadata": {},
     "outputs": [],
     "prompt_number": 30
    },
    {
     "cell_type": "code",
     "collapsed": false,
     "input": [
      "omega = s.data.rpm*2*np.pi/60\n",
      "s.data[\"tsr\"] = omega*pr.R/1\n",
      "power = s.data.torque*omega\n",
      "s.data[\"cp\"] = power/(0.5*1000*1*1**3)\n",
      "s.data[\"cd\"] = s.data.drag/(0.5*1000*1*1**2)\n",
      "s.data"
     ],
     "language": "python",
     "metadata": {},
     "outputs": [
      {
       "html": [
        "<div style=\"max-height:1000px;max-width:1500px;overflow:auto;\">\n",
        "<table border=\"1\" class=\"dataframe\">\n",
        "  <thead>\n",
        "    <tr style=\"text-align: right;\">\n",
        "      <th></th>\n",
        "      <th>tow_speed</th>\n",
        "      <th>rpm</th>\n",
        "      <th>torque</th>\n",
        "      <th>drag</th>\n",
        "      <th>tsr</th>\n",
        "      <th>cp</th>\n",
        "      <th>cd</th>\n",
        "    </tr>\n",
        "    <tr>\n",
        "      <th>run</th>\n",
        "      <th></th>\n",
        "      <th></th>\n",
        "      <th></th>\n",
        "      <th></th>\n",
        "      <th></th>\n",
        "      <th></th>\n",
        "      <th></th>\n",
        "    </tr>\n",
        "  </thead>\n",
        "  <tbody>\n",
        "    <tr>\n",
        "      <th>0</th>\n",
        "      <td> 0.999737</td>\n",
        "      <td> 22.911482</td>\n",
        "      <td> 29.297704</td>\n",
        "      <td> 377.696892</td>\n",
        "      <td> 1.199642</td>\n",
        "      <td> 0.140587</td>\n",
        "      <td> 0.755394</td>\n",
        "    </tr>\n",
        "    <tr>\n",
        "      <th>1</th>\n",
        "      <td> 0.999723</td>\n",
        "      <td> 30.576568</td>\n",
        "      <td> 36.566590</td>\n",
        "      <td> 440.679143</td>\n",
        "      <td> 1.600985</td>\n",
        "      <td> 0.234170</td>\n",
        "      <td> 0.881358</td>\n",
        "    </tr>\n",
        "    <tr>\n",
        "      <th>2</th>\n",
        "      <td> 0.999749</td>\n",
        "      <td> 38.214584</td>\n",
        "      <td> 31.466900</td>\n",
        "      <td> 483.666696</td>\n",
        "      <td> 2.000911</td>\n",
        "      <td> 0.251850</td>\n",
        "      <td> 0.967333</td>\n",
        "    </tr>\n",
        "    <tr>\n",
        "      <th>3</th>\n",
        "      <td> 0.999736</td>\n",
        "      <td> 45.828674</td>\n",
        "      <td> 20.867135</td>\n",
        "      <td> 512.859426</td>\n",
        "      <td> 2.399584</td>\n",
        "      <td> 0.200290</td>\n",
        "      <td> 1.025719</td>\n",
        "    </tr>\n",
        "    <tr>\n",
        "      <th>4</th>\n",
        "      <td> 0.999769</td>\n",
        "      <td> 53.483139</td>\n",
        "      <td>  8.960410</td>\n",
        "      <td> 530.745002</td>\n",
        "      <td> 2.800371</td>\n",
        "      <td> 0.100370</td>\n",
        "      <td> 1.061490</td>\n",
        "    </tr>\n",
        "  </tbody>\n",
        "</table>\n",
        "</div>"
       ],
       "metadata": {},
       "output_type": "pyout",
       "prompt_number": 32,
       "text": [
        "     tow_speed        rpm     torque        drag       tsr        cp        cd\n",
        "run                                                                           \n",
        "0     0.999737  22.911482  29.297704  377.696892  1.199642  0.140587  0.755394\n",
        "1     0.999723  30.576568  36.566590  440.679143  1.600985  0.234170  0.881358\n",
        "2     0.999749  38.214584  31.466900  483.666696  2.000911  0.251850  0.967333\n",
        "3     0.999736  45.828674  20.867135  512.859426  2.399584  0.200290  1.025719\n",
        "4     0.999769  53.483139   8.960410  530.745002  2.800371  0.100370  1.061490"
       ]
      }
     ],
     "prompt_number": 32
    }
   ],
   "metadata": {}
  }
 ]
}